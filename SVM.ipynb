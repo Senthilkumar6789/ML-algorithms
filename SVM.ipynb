{
  "nbformat": 4,
  "nbformat_minor": 0,
  "metadata": {
    "colab": {
      "provenance": []
    },
    "kernelspec": {
      "name": "python3",
      "display_name": "Python 3"
    },
    "language_info": {
      "name": "python"
    }
  },
  "cells": [
    {
      "cell_type": "code",
      "execution_count": 1,
      "metadata": {
        "colab": {
          "base_uri": "https://localhost:8080/"
        },
        "id": "zdGRBtnzuWIs",
        "outputId": "3596ada5-b72b-467a-9e56-c799978c09df"
      },
      "outputs": [
        {
          "output_type": "stream",
          "name": "stdout",
          "text": [
            "              precision    recall  f1-score   support\n",
            "\n",
            "           0       1.00      1.00      1.00        22\n",
            "           1       0.96      0.96      0.96        27\n",
            "           2       0.96      0.96      0.96        26\n",
            "\n",
            "    accuracy                           0.97        75\n",
            "   macro avg       0.97      0.97      0.97        75\n",
            "weighted avg       0.97      0.97      0.97        75\n",
            "\n",
            "[[22  0  0]\n",
            " [ 0 26  1]\n",
            " [ 0  1 25]]\n",
            "0.9733333333333334\n"
          ]
        }
      ],
      "source": [
        "#Step 1: Importing the dataset\n",
        "#Step 2: Data pre-processing\n",
        "#Step 3: Splitting the test and train sets\n",
        "#Step 4: Fitting the SVM classifier model to the training set\n",
        "#Step 5: Evaluate the model\n",
        "\n",
        "import numpy as np\n",
        "import pandas as pd\n",
        "from sklearn import datasets\n",
        "\n",
        "iris = datasets.load_iris()\n",
        "x = iris.data\n",
        "y = iris.target\n",
        "\n",
        "from sklearn.model_selection import train_test_split\n",
        "x_train,x_test,y_train,y_test=train_test_split(x,y,test_size=.5)\n",
        "\n",
        "from sklearn import svm\n",
        "classifier=svm.SVC(kernel='linear')\n",
        "classifier.fit(x_train,y_train)\n",
        "y_pred=classifier.predict(x_test)\n",
        "\n",
        "from sklearn.metrics import classification_report,confusion_matrix,accuracy_score\n",
        "print(classification_report(y_test, y_pred))\n",
        "print(confusion_matrix(y_test, y_pred))\n",
        "print(accuracy_score(y_test, y_pred))\n"
      ]
    },
    {
      "cell_type": "code",
      "source": [],
      "metadata": {
        "id": "28BG5Q0ruXVu"
      },
      "execution_count": null,
      "outputs": []
    }
  ]
}