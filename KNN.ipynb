{
  "nbformat": 4,
  "nbformat_minor": 0,
  "metadata": {
    "colab": {
      "provenance": []
    },
    "kernelspec": {
      "name": "python3",
      "display_name": "Python 3"
    },
    "language_info": {
      "name": "python"
    }
  },
  "cells": [
    {
      "cell_type": "code",
      "execution_count": 1,
      "metadata": {
        "id": "nMKpqT2E48Fy",
        "outputId": "cd21fe5f-64bf-4169-a1df-0ce234c677eb",
        "colab": {
          "base_uri": "https://localhost:8080/"
        }
      },
      "outputs": [
        {
          "output_type": "stream",
          "name": "stdout",
          "text": [
            "              precision    recall  f1-score   support\n",
            "\n",
            "           0       1.00      1.00      1.00        28\n",
            "           1       0.91      0.91      0.91        23\n",
            "           2       0.92      0.92      0.92        24\n",
            "\n",
            "    accuracy                           0.95        75\n",
            "   macro avg       0.94      0.94      0.94        75\n",
            "weighted avg       0.95      0.95      0.95        75\n",
            "\n",
            "[[28  0  0]\n",
            " [ 0 21  2]\n",
            " [ 0  2 22]]\n",
            "0.9466666666666667\n"
          ]
        }
      ],
      "source": [
        "#Step 1: Importing the dataset\n",
        "#Step 2: Data pre-processing\n",
        "#Step 3: Splitting the test and train sets\n",
        "#Step 4: Fitting the KNN model to the training set\n",
        "#Step 5: Evaluate the model\n",
        "\n",
        "import numpy as np\n",
        "import pandas as pd\n",
        "from sklearn import datasets\n",
        "\n",
        "iris = datasets.load_iris()\n",
        "x = iris.data\n",
        "y = iris.target\n",
        "\n",
        "from sklearn.model_selection import train_test_split\n",
        "x_train,x_test,y_train,y_test=train_test_split(x,y,test_size=.5)\n",
        "\n",
        "from sklearn.neighbors import KNeighborsClassifier\n",
        "classifier = KNeighborsClassifier(n_neighbors=3)\n",
        "classifier.fit(x_train,y_train)\n",
        "y_pred=classifier.predict(x_test)\n",
        "\n",
        "from sklearn.metrics import classification_report,confusion_matrix,accuracy_score\n",
        "print(classification_report(y_test, y_pred))\n",
        "print(confusion_matrix(y_test, y_pred))\n",
        "print(accuracy_score(y_test, y_pred))"
      ]
    },
    {
      "cell_type": "code",
      "source": [],
      "metadata": {
        "id": "AU7UcrM749j7"
      },
      "execution_count": null,
      "outputs": []
    }
  ]
}