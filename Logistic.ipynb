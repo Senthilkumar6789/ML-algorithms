{
  "nbformat": 4,
  "nbformat_minor": 0,
  "metadata": {
    "colab": {
      "provenance": []
    },
    "kernelspec": {
      "name": "python3",
      "display_name": "Python 3"
    },
    "language_info": {
      "name": "python"
    }
  },
  "cells": [
    {
      "cell_type": "code",
      "execution_count": 1,
      "metadata": {
        "colab": {
          "base_uri": "https://localhost:8080/"
        },
        "id": "52_p4he1roYb",
        "outputId": "0c18aea0-c0d6-48fb-f512-68e51e8cced9"
      },
      "outputs": [
        {
          "output_type": "stream",
          "name": "stdout",
          "text": [
            "              precision    recall  f1-score   support\n",
            "\n",
            "           0       1.00      1.00      1.00        21\n",
            "           1       0.88      0.97      0.92        30\n",
            "           2       0.95      0.83      0.89        24\n",
            "\n",
            "    accuracy                           0.93        75\n",
            "   macro avg       0.94      0.93      0.94        75\n",
            "weighted avg       0.94      0.93      0.93        75\n",
            "\n",
            "[[21  0  0]\n",
            " [ 0 29  1]\n",
            " [ 0  4 20]]\n",
            "0.9333333333333333\n"
          ]
        }
      ],
      "source": [
        "#Step 1: Importing the dataset\n",
        "#Step 2: Data pre-processing\n",
        "#Step 3: Splitting the test and train sets\n",
        "#Step 4: Fitting the logistic regression model to the training set\n",
        "#Step 5: Evaluate the model\n",
        "\n",
        "import numpy as np\n",
        "import pandas as pd\n",
        "from sklearn import datasets\n",
        "\n",
        "iris = datasets.load_iris()\n",
        "x = iris.data\n",
        "y = iris.target\n",
        "\n",
        "from sklearn.model_selection import train_test_split\n",
        "x_train,x_test,y_train,y_test=train_test_split(x,y,test_size=.5,random_state=0)\n",
        "\n",
        "from sklearn.linear_model import LogisticRegression\n",
        "\n",
        "classifier = LogisticRegression()\n",
        "classifier.fit(x_train,y_train)\n",
        "y_pred=classifier.predict(x_test)\n",
        "\n",
        "from sklearn.metrics import classification_report,confusion_matrix,accuracy_score\n",
        "print(classification_report(y_test, y_pred))\n",
        "print(confusion_matrix(y_test, y_pred))\n",
        "print(accuracy_score(y_test, y_pred))\n"
      ]
    }
  ]
}